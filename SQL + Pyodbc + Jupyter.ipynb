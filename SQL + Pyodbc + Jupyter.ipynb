{
 "cells": [
  {
   "cell_type": "markdown",
   "id": "9c12e32e",
   "metadata": {},
   "source": [
    "## Bibliotecas"
   ]
  },
  {
   "cell_type": "code",
   "execution_count": 16,
   "id": "8d85daca",
   "metadata": {},
   "outputs": [],
   "source": [
    "import pandas as pd\n",
    "import pyodbc"
   ]
  },
  {
   "cell_type": "code",
   "execution_count": 19,
   "id": "e7e5ced8",
   "metadata": {},
   "outputs": [
    {
     "name": "stdout",
     "output_type": "stream",
     "text": [
      "['SQL Server', 'SQLite3 ODBC Driver', 'SQLite ODBC Driver', 'SQLite ODBC (UTF-8) Driver', 'SQL Server Native Client RDA 11.0', 'ODBC Driver 17 for SQL Server', 'Microsoft Access Driver (*.mdb, *.accdb)', 'Microsoft Excel Driver (*.xls, *.xlsx, *.xlsm, *.xlsb)', 'Microsoft Access Text Driver (*.txt, *.csv)', 'ODBC Driver 18 for SQL Server', 'ODBC Driver 13 for SQL Server']\n"
     ]
    }
   ],
   "source": [
    "print(pyodbc.drivers())"
   ]
  },
  {
   "cell_type": "markdown",
   "id": "e9ef2c68",
   "metadata": {
    "scrolled": true
   },
   "source": [
    "## Configurando conexão"
   ]
  },
  {
   "cell_type": "code",
   "execution_count": 24,
   "id": "779a4b23",
   "metadata": {},
   "outputs": [
    {
     "name": "stdout",
     "output_type": "stream",
     "text": [
      "Conexão bem sucedida!\n"
     ]
    }
   ],
   "source": [
    "# Conexão\n",
    "try:\n",
    "    dados_conexao = ('Driver={ODBC Driver 13 for SQL Server};'\n",
    "                      'Server=DSA;'\n",
    "                      'Database=AULA;'\n",
    "                      'Trusted_Connection=yes')\n",
    "    \n",
    "    conexao = pyodbc.connect(dados_conexao)\n",
    "    \n",
    "    print(\"Conexão bem sucedida!\")\n",
    "except:\n",
    "    print(\"Conexão falhou\")\n",
    "    \n",
    "\n",
    "# 'Trusted_Connection=yes' loga no Servidor SQL com autenticação do windows"
   ]
  },
  {
   "cell_type": "markdown",
   "id": "cc5e9da8",
   "metadata": {},
   "source": [
    "## Criando nossa query"
   ]
  },
  {
   "cell_type": "code",
   "execution_count": 22,
   "id": "7b9ea8a7",
   "metadata": {},
   "outputs": [
    {
     "name": "stderr",
     "output_type": "stream",
     "text": [
      "C:\\Users\\devda\\anaconda3\\lib\\site-packages\\pandas\\io\\sql.py:761: UserWarning: pandas only support SQLAlchemy connectable(engine/connection) ordatabase string URI or sqlite3 DBAPI2 connectionother DBAPI2 objects are not tested, please consider using SQLAlchemy\n",
      "  warnings.warn(\n"
     ]
    },
    {
     "data": {
      "text/html": [
       "<div>\n",
       "<style scoped>\n",
       "    .dataframe tbody tr th:only-of-type {\n",
       "        vertical-align: middle;\n",
       "    }\n",
       "\n",
       "    .dataframe tbody tr th {\n",
       "        vertical-align: top;\n",
       "    }\n",
       "\n",
       "    .dataframe thead th {\n",
       "        text-align: right;\n",
       "    }\n",
       "</style>\n",
       "<table border=\"1\" class=\"dataframe\">\n",
       "  <thead>\n",
       "    <tr style=\"text-align: right;\">\n",
       "      <th></th>\n",
       "      <th>IDPRODUTO</th>\n",
       "      <th>PRODUTO</th>\n",
       "      <th>VALOR</th>\n",
       "    </tr>\n",
       "  </thead>\n",
       "  <tbody>\n",
       "    <tr>\n",
       "      <th>0</th>\n",
       "      <td>5059</td>\n",
       "      <td>PRODUTO14</td>\n",
       "      <td>63.405</td>\n",
       "    </tr>\n",
       "    <tr>\n",
       "      <th>1</th>\n",
       "      <td>5060</td>\n",
       "      <td>PRODUTO293</td>\n",
       "      <td>26.595</td>\n",
       "    </tr>\n",
       "    <tr>\n",
       "      <th>2</th>\n",
       "      <td>5061</td>\n",
       "      <td>PRODUTO414</td>\n",
       "      <td>17.985</td>\n",
       "    </tr>\n",
       "    <tr>\n",
       "      <th>3</th>\n",
       "      <td>5062</td>\n",
       "      <td>PRODUTO764</td>\n",
       "      <td>48.495</td>\n",
       "    </tr>\n",
       "    <tr>\n",
       "      <th>4</th>\n",
       "      <td>5063</td>\n",
       "      <td>PRODUTO785</td>\n",
       "      <td>18.900</td>\n",
       "    </tr>\n",
       "  </tbody>\n",
       "</table>\n",
       "</div>"
      ],
      "text/plain": [
       "   IDPRODUTO     PRODUTO   VALOR\n",
       "0       5059   PRODUTO14  63.405\n",
       "1       5060  PRODUTO293  26.595\n",
       "2       5061  PRODUTO414  17.985\n",
       "3       5062  PRODUTO764  48.495\n",
       "4       5063  PRODUTO785  18.900"
      ]
     },
     "metadata": {},
     "output_type": "display_data"
    }
   ],
   "source": [
    "query = '''\n",
    "        SELECT * \n",
    "        FROM DUPLICADOS  \n",
    "        '''\n",
    "df = pd.read_sql(query, conexao)\n",
    "\n",
    "display(df.head(5))"
   ]
  },
  {
   "cell_type": "markdown",
   "id": "4a994739",
   "metadata": {},
   "source": [
    "## Encerrando conexão"
   ]
  },
  {
   "cell_type": "code",
   "execution_count": 23,
   "id": "0603d89f",
   "metadata": {},
   "outputs": [],
   "source": [
    "# encerrando a conexao\n",
    "conexao.close()"
   ]
  },
  {
   "cell_type": "code",
   "execution_count": null,
   "id": "7dc11aa0",
   "metadata": {},
   "outputs": [],
   "source": []
  }
 ],
 "metadata": {
  "kernelspec": {
   "display_name": "Python 3 (ipykernel)",
   "language": "python",
   "name": "python3"
  },
  "language_info": {
   "codemirror_mode": {
    "name": "ipython",
    "version": 3
   },
   "file_extension": ".py",
   "mimetype": "text/x-python",
   "name": "python",
   "nbconvert_exporter": "python",
   "pygments_lexer": "ipython3",
   "version": "3.9.12"
  }
 },
 "nbformat": 4,
 "nbformat_minor": 5
}
